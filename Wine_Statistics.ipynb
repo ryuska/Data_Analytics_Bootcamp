{
 "cells": [
  {
   "cell_type": "code",
   "execution_count": 3,
   "metadata": {},
   "outputs": [],
   "source": [
    "import csv"
   ]
  },
  {
   "cell_type": "code",
   "execution_count": 6,
   "metadata": {},
   "outputs": [],
   "source": [
    "with open(\"wine-data.csv\", 'r', encoding='utf-8') as file:\n",
    "    wines = list(csv.reader(file))\n",
    "    "
   ]
  },
  {
   "cell_type": "code",
   "execution_count": 5,
   "metadata": {},
   "outputs": [
    {
     "data": {
      "text/plain": [
       "[['',\n",
       "  'country',\n",
       "  'description',\n",
       "  'designation',\n",
       "  'points',\n",
       "  'price',\n",
       "  'province',\n",
       "  'region_1',\n",
       "  'region_2',\n",
       "  'taster_name',\n",
       "  'taster_twitter_handle',\n",
       "  'title',\n",
       "  'variety',\n",
       "  'winery'],\n",
       " ['0',\n",
       "  'Italy',\n",
       "  \"Aromas include tropical fruit, broom, brimstone and dried herb. The palate isn't overly expressive, offering unripened apple, citrus and dried sage alongside brisk acidity.\",\n",
       "  'VulkÃ\\xa0 Bianco',\n",
       "  '87',\n",
       "  '',\n",
       "  'Sicily & Sardinia',\n",
       "  'Etna',\n",
       "  '',\n",
       "  'Kerin Oâ\\x80\\x99Keefe',\n",
       "  '@kerinokeefe',\n",
       "  'Nicosia 2013 VulkÃ\\xa0 Bianco  (Etna)',\n",
       "  'White Blend',\n",
       "  'Nicosia'],\n",
       " ['1',\n",
       "  'Portugal',\n",
       "  \"This is ripe and fruity, a wine that is smooth while still structured. Firm tannins are filled out with juicy red berry fruits and freshened with acidity. It's  already drinkable, although it will certainly be better from 2016.\",\n",
       "  'Avidagos',\n",
       "  '87',\n",
       "  '15.0',\n",
       "  'Douro',\n",
       "  '',\n",
       "  '',\n",
       "  'Roger Voss',\n",
       "  '@vossroger',\n",
       "  'Quinta dos Avidagos 2011 Avidagos Red (Douro)',\n",
       "  'Portuguese Red',\n",
       "  'Quinta dos Avidagos'],\n",
       " ['2',\n",
       "  'US',\n",
       "  'Tart and snappy, the flavors of lime flesh and rind dominate. Some green pineapple pokes through, with crisp acidity underscoring the flavors. The wine was all stainless-steel fermented.',\n",
       "  '',\n",
       "  '87',\n",
       "  '14.0',\n",
       "  'Oregon',\n",
       "  'Willamette Valley',\n",
       "  'Willamette Valley',\n",
       "  'Paul Gregutt',\n",
       "  '@paulgwineÂ\\xa0',\n",
       "  'Rainstorm 2013 Pinot Gris (Willamette Valley)',\n",
       "  'Pinot Gris',\n",
       "  'Rainstorm'],\n",
       " ['3',\n",
       "  'US',\n",
       "  'Pineapple rind, lemon pith and orange blossom start off the aromas. The palate is a bit more opulent, with notes of honey-drizzled guava and mango giving way to a slightly astringent, semidry finish.',\n",
       "  'Reserve Late Harvest',\n",
       "  '87',\n",
       "  '13.0',\n",
       "  'Michigan',\n",
       "  'Lake Michigan Shore',\n",
       "  '',\n",
       "  'Alexander Peartree',\n",
       "  '',\n",
       "  'St. Julian 2013 Reserve Late Harvest Riesling (Lake Michigan Shore)',\n",
       "  'Riesling',\n",
       "  'St. Julian']]"
      ]
     },
     "execution_count": 5,
     "metadata": {},
     "output_type": "execute_result"
    }
   ],
   "source": [
    "wines[:5]"
   ]
  },
  {
   "cell_type": "code",
   "execution_count": 11,
   "metadata": {},
   "outputs": [],
   "source": [
    "\"\"\"\n",
    "scores=[]\n",
    "for w in wins:\n",
    "    point=w[4]\n",
    "    scores.append(points)\n",
    "\"\"\"\n",
    "scores=[float(w[4]) for w in wines[1:]]"
   ]
  },
  {
   "cell_type": "code",
   "execution_count": 12,
   "metadata": {},
   "outputs": [
    {
     "data": {
      "text/plain": [
       "[87.0, 87.0, 87.0, 87.0, 87.0]"
      ]
     },
     "execution_count": 12,
     "metadata": {},
     "output_type": "execute_result"
    }
   ],
   "source": [
    "scores[:5]"
   ]
  },
  {
   "cell_type": "code",
   "execution_count": 13,
   "metadata": {},
   "outputs": [
    {
     "data": {
      "text/plain": [
       "list"
      ]
     },
     "execution_count": 13,
     "metadata": {},
     "output_type": "execute_result"
    }
   ],
   "source": [
    "type(scores)"
   ]
  },
  {
   "cell_type": "code",
   "execution_count": 14,
   "metadata": {},
   "outputs": [],
   "source": [
    "sum_score=sum(scores)"
   ]
  },
  {
   "cell_type": "code",
   "execution_count": 15,
   "metadata": {},
   "outputs": [],
   "source": [
    "#alternative way to sum scores\n",
    "total = 0\n",
    "for point in scores:\n",
    "    total+=point"
   ]
  },
  {
   "cell_type": "code",
   "execution_count": 16,
   "metadata": {},
   "outputs": [
    {
     "name": "stdout",
     "output_type": "stream",
     "text": [
      "11495563.0\n",
      "11495563.0\n"
     ]
    }
   ],
   "source": [
    "print(sum(scores))\n",
    "print(total)"
   ]
  },
  {
   "cell_type": "code",
   "execution_count": 17,
   "metadata": {},
   "outputs": [
    {
     "name": "stdout",
     "output_type": "stream",
     "text": [
      "129971\n"
     ]
    }
   ],
   "source": [
    "num_wines=len(scores)\n",
    "print(num_wines)"
   ]
  },
  {
   "cell_type": "code",
   "execution_count": 18,
   "metadata": {},
   "outputs": [
    {
     "name": "stdout",
     "output_type": "stream",
     "text": [
      "88.44713820775404\n"
     ]
    }
   ],
   "source": [
    "mean_scores=sum_score/num_wines\n",
    "\n",
    "print(mean_scores)"
   ]
  },
  {
   "cell_type": "code",
   "execution_count": 29,
   "metadata": {},
   "outputs": [],
   "source": [
    "#temporary sort\n",
    "\n",
    "sorted_scores = sorted(scores)"
   ]
  },
  {
   "cell_type": "code",
   "execution_count": 20,
   "metadata": {},
   "outputs": [
    {
     "name": "stdout",
     "output_type": "stream",
     "text": [
      "64985\n"
     ]
    }
   ],
   "source": [
    "# this is index position for median\n",
    "middle = int(num_wines/2)\n",
    "print(middle)"
   ]
  },
  {
   "cell_type": "code",
   "execution_count": 30,
   "metadata": {},
   "outputs": [
    {
     "name": "stdout",
     "output_type": "stream",
     "text": [
      "88.0\n"
     ]
    }
   ],
   "source": [
    "median_score=sorted_scores[middle]\n",
    "print(median_score)"
   ]
  },
  {
   "cell_type": "code",
   "execution_count": null,
   "metadata": {},
   "outputs": [],
   "source": [
    "# mean=88.45 (there are high values influencing the data)\n",
    "# median=85\n",
    "\n",
    "#mean>median\n",
    "#high values\n",
    "\n",
    "#mean<median\n",
    "#low values"
   ]
  },
  {
   "cell_type": "code",
   "execution_count": 24,
   "metadata": {},
   "outputs": [
    {
     "name": "stdout",
     "output_type": "stream",
     "text": [
      "100.0\n"
     ]
    }
   ],
   "source": [
    "max_score= max(scores)\n",
    "print(max_score)"
   ]
  },
  {
   "cell_type": "code",
   "execution_count": 26,
   "metadata": {},
   "outputs": [
    {
     "name": "stdout",
     "output_type": "stream",
     "text": [
      "80.0\n"
     ]
    }
   ],
   "source": [
    "min_score=min(scores)\n",
    "print(min_score)"
   ]
  },
  {
   "cell_type": "code",
   "execution_count": 27,
   "metadata": {},
   "outputs": [
    {
     "name": "stdout",
     "output_type": "stream",
     "text": [
      "20.0\n"
     ]
    }
   ],
   "source": [
    "range_scores=max_score-min_score\n",
    "print(range_scores)"
   ]
  },
  {
   "cell_type": "code",
   "execution_count": 33,
   "metadata": {},
   "outputs": [],
   "source": [
    "\n",
    "other_max =scores[1]\n",
    "other_min=scores[1]\n",
    "\n",
    "for point in scores:\n",
    "    if point > other_max:\n",
    "        other_max = point\n",
    "    if point < other_min:\n",
    "        other_min = point"
   ]
  },
  {
   "cell_type": "code",
   "execution_count": 34,
   "metadata": {},
   "outputs": [
    {
     "name": "stdout",
     "output_type": "stream",
     "text": [
      "100.0\n",
      "80.0\n"
     ]
    }
   ],
   "source": [
    "\n",
    "print(other_max)\n",
    "print(other_min)"
   ]
  },
  {
   "cell_type": "code",
   "execution_count": 35,
   "metadata": {},
   "outputs": [
    {
     "name": "stdout",
     "output_type": "stream",
     "text": [
      "{87.0: 16933, 86.0: 12600, 85.0: 9530, 88.0: 17207, 92.0: 9613, 91.0: 11359, 90.0: 15410, 89.0: 12226, 83.0: 3025, 82.0: 1836, 81.0: 692, 80.0: 397, 100.0: 19, 98.0: 77, 97.0: 229, 96.0: 523, 95.0: 1535, 93.0: 6489, 94.0: 3758, 84.0: 6480, 99.0: 33}\n"
     ]
    }
   ],
   "source": [
    "score_counts={}\n",
    "for point in scores:\n",
    "    if point not in score_counts:\n",
    "        score_counts[point]=1\n",
    "    else:\n",
    "        score_counts[point]+=1\n",
    "print(score_counts)"
   ]
  },
  {
   "cell_type": "code",
   "execution_count": 38,
   "metadata": {},
   "outputs": [],
   "source": [
    "# finding mode\n",
    "\n",
    "max_count = 0\n",
    "\n",
    "for freq in score_counts.values():\n",
    "    if freq > max_count:\n",
    "        max_count = freq\n",
    "        \n",
    "mode_list = []\n",
    "for point,freq in score_counts.items():\n",
    "    if freq == max_count:\n",
    "        mode_list.append(point)\n",
    "        \n"
   ]
  },
  {
   "cell_type": "code",
   "execution_count": 39,
   "metadata": {},
   "outputs": [
    {
     "data": {
      "text/plain": [
       "[88.0]"
      ]
     },
     "execution_count": 39,
     "metadata": {},
     "output_type": "execute_result"
    }
   ],
   "source": [
    "mode_list"
   ]
  },
  {
   "cell_type": "code",
   "execution_count": 41,
   "metadata": {},
   "outputs": [
    {
     "name": "stdout",
     "output_type": "stream",
     "text": [
      "The mode is 88.0 and was seen 17207 times.\n"
     ]
    }
   ],
   "source": [
    "if len(mode_list)==1:\n",
    "    print(f\"The mode is {mode_list[0]} and was seen {max_count} times.\")\n",
    "else:\n",
    "    message=\"The modes are:\"\n",
    "    for mode in mode_list:\n",
    "        message+=f\"{mode}\"\n",
    "    message += f\" and were seen {max_count} times.\"\n",
    "    "
   ]
  },
  {
   "cell_type": "code",
   "execution_count": null,
   "metadata": {},
   "outputs": [],
   "source": [
    "#f\"the mode is {mode_list[0]} and was seen {max_count} times.\"\""
   ]
  },
  {
   "cell_type": "code",
   "execution_count": 44,
   "metadata": {},
   "outputs": [],
   "source": [
    "# find the standard deviation\n",
    "\n",
    "total_diffs=0\n",
    "for point in scores:\n",
    "    diff=(point - mean_scores)**2\n",
    "    total_diffs+=diff\n",
    "        \n",
    "var_scores = (total_diffs)/(len(scores)-1)\n",
    "std_scores = var_scores**0.5"
   ]
  },
  {
   "cell_type": "code",
   "execution_count": 45,
   "metadata": {},
   "outputs": [
    {
     "name": "stdout",
     "output_type": "stream",
     "text": [
      "3.0397302029162336\n"
     ]
    }
   ],
   "source": [
    "print(std_scores)"
   ]
  },
  {
   "cell_type": "code",
   "execution_count": 49,
   "metadata": {},
   "outputs": [],
   "source": [
    "# find Quartertile positions\n",
    "\n",
    "Q1_pos = int (num_wines/4)\n",
    "Q3_pos = int ((num_wines*3)/4)"
   ]
  },
  {
   "cell_type": "code",
   "execution_count": 50,
   "metadata": {},
   "outputs": [
    {
     "name": "stdout",
     "output_type": "stream",
     "text": [
      "32492\n",
      "97478\n"
     ]
    }
   ],
   "source": [
    "print(Q1_pos)\n",
    "print(Q3_pos)"
   ]
  },
  {
   "cell_type": "code",
   "execution_count": 53,
   "metadata": {},
   "outputs": [],
   "source": [
    "Q1 = sorted_scores[Q1_pos]\n",
    "Q3 = sorted_scores[Q3_pos]"
   ]
  },
  {
   "cell_type": "code",
   "execution_count": 54,
   "metadata": {},
   "outputs": [
    {
     "name": "stdout",
     "output_type": "stream",
     "text": [
      "86.0\n",
      "91.0\n"
     ]
    }
   ],
   "source": [
    "print(Q1)\n",
    "print(Q3)"
   ]
  },
  {
   "cell_type": "code",
   "execution_count": 55,
   "metadata": {},
   "outputs": [
    {
     "name": "stdout",
     "output_type": "stream",
     "text": [
      "5.0\n"
     ]
    }
   ],
   "source": [
    "IQR = Q3-Q1\n",
    "print(IQR)"
   ]
  },
  {
   "cell_type": "code",
   "execution_count": 56,
   "metadata": {},
   "outputs": [],
   "source": [
    "bottom_whisker = Q1 - (1.5*IQR)\n",
    "top_whisker = Q3 + (1.5*IQR)\n"
   ]
  },
  {
   "cell_type": "code",
   "execution_count": 57,
   "metadata": {},
   "outputs": [
    {
     "name": "stdout",
     "output_type": "stream",
     "text": [
      "78.5\n",
      "98.5\n"
     ]
    }
   ],
   "source": [
    "print(bottom_whisker)\n",
    "print(top_whisker)"
   ]
  },
  {
   "cell_type": "code",
   "execution_count": null,
   "metadata": {},
   "outputs": [],
   "source": []
  }
 ],
 "metadata": {
  "kernelspec": {
   "display_name": "Python 3",
   "language": "python",
   "name": "python3"
  },
  "language_info": {
   "codemirror_mode": {
    "name": "ipython",
    "version": 3
   },
   "file_extension": ".py",
   "mimetype": "text/x-python",
   "name": "python",
   "nbconvert_exporter": "python",
   "pygments_lexer": "ipython3",
   "version": "3.7.3"
  }
 },
 "nbformat": 4,
 "nbformat_minor": 2
}