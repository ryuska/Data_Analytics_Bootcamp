{
 "cells": [
  {
   "cell_type": "code",
   "execution_count": 2,
   "metadata": {},
   "outputs": [],
   "source": [
    "import requests \n",
    "import csv"
   ]
  },
  {
   "cell_type": "code",
   "execution_count": 3,
   "metadata": {},
   "outputs": [
    {
     "data": {
      "text/plain": [
       "'\"STATION\",\"DATE\",\"REPORT_TYPE\",\"SOURCE\",\"AWND\",\"BackupDirection\",\"BackupDistance\",\"BackupDistanceUni'"
      ]
     },
     "execution_count": 3,
     "metadata": {},
     "output_type": "execute_result"
    }
   ],
   "source": [
    "url='https://www.ncei.noaa.gov/orders/cdo/2032057.csv'\n",
    "r = requests.get(url)\n",
    "r.text[0:100]"
   ]
  },
  {
   "cell_type": "code",
   "execution_count": 7,
   "metadata": {},
   "outputs": [
    {
     "data": {
      "text/plain": [
       "'\"STATION\",\"DATE\",\"REPORT_TYPE\",\"SOURCE\",\"AWND\",\"BackupDirection\",\"BackupDistance\",\"BackupDistanceUnit\",\"BackupElements\",\"BackupElevation\",\"BackupElevationUnit\",\"BackupEquipment\",\"BackupLatitude\",\"BackupLongitude\",\"BackupName\",\"CDSD\",\"CLDD\",\"DSNW\",\"DailyAverageDewPointTemperature\",\"DailyAverageDryBulbTemperature\",\"DailyAverageRelativeHumidity\",\"DailyAverageSeaLevelPressure\",\"DailyAverageStationPressure\",\"DailyAverageWetBulbTemperature\",\"DailyAverageWindSpeed\",\"DailyCoolingDegreeDays\",\"DailyDepartureFromNormalAverageTemperature\",\"DailyHeatingDegreeDays\",\"DailyMaximumDryBulbTemperature\",\"DailyMinimumDryBulbTemperature\",\"DailyPeakWindDirection\",\"DailyPeakWindSpeed\",\"DailyPrecipitation\",\"DailySnowDepth\",\"DailySnowfall\",\"DailySustainedWindDirection\",\"DailySustainedWindSpeed\",\"DailyWeather\",\"HDSD\",\"HTDD\",\"HeavyFog\",\"HourlyAltimeterSetting\",\"HourlyDewPointTemperature\",\"HourlyDryBulbTemperature\",\"HourlyPrecipitation\",\"HourlyPresentWeatherType\",\"HourlyPressureChange\",\"HourlyPressureTendency\",\"HourlyRelativeHumidity\",\"HourlySeaLevelPressure\",\"HourlySkyConditions\",\"HourlyStationPressure\",\"HourlyVisibility\",\"HourlyWetBulbTemperature\",\"HourlyWindDirection\",\"HourlyWindGustSpeed\",\"HourlyWindSpeed\",\"MonthlyAverageRH\",\"MonthlyDaysWithGT001Precip\",\"MonthlyDaysWithGT010Precip\",\"MonthlyDaysWithGT32Temp\",\"MonthlyDaysWithGT90Temp\",\"MonthlyDaysWithLT0Temp\",\"MonthlyDaysWithLT32Temp\",\"MonthlyDepartureFromNormalAverageTemperature\",\"MonthlyDepartureFromNormalCoolingDegreeDays\",\"MonthlyDepartureFromNormalHeatingDegreeDays\",\"MonthlyDepartureFromNormalMaximumTemperature\",\"MonthlyDepartureFromNormalMinimumTemperature\",\"MonthlyDepartureFromNormalPrecipitation\",\"MonthlyDewpointTemperature\",\"MonthlyGreatestPrecip\",\"MonthlyGreatestPrecipDate\",\"MonthlyGreatestSnowDepth\",\"MonthlyGreatestSnowDepthDate\",\"MonthlyGreatestSnowfall\",\"MonthlyGreatestSnowfallDate\",\"MonthlyMaxSeaLevelPressureValue\",\"MonthlyMaxSeaLevelPressureValueDate\",\"MonthlyMaxSeaLevelPressureValueTime\",\"MonthlyMaximumTemperature\",\"MonthlyMeanTemperature\",\"MonthlyMinSeaLevelPressureValue\",\"MonthlyMinSeaLevelPressureValueDate\",\"MonthlyMinSeaLevelPressureValueTime\",\"MonthlyMinimumTemperature\",\"MonthlySeaLevelPressure\",\"MonthlyStationPressure\",\"MonthlyTotalLiquidPrecipitation\",\"MonthlyTotalSnowfall\",\"MonthlyWetBulb\",\"NormalsCoolingDegreeDay\",\"NormalsHeatingDegreeDay\",\"REM\",\"REPORT_TYPE\",\"SOURCE\",\"ShortDurationEndDate005\",\"ShortDurationEndDate010\",\"ShortDurationEndDate015\",\"ShortDurationEndDate020\",\"ShortDurationEndDate030\",\"ShortDurationEndDate045\",\"ShortDurationEndDate060\",\"ShortDurationEndDate080\",\"ShortDurationEndDate100\",\"ShortDurationEndDate120\",\"ShortDurationEndDate150\",\"ShortDurationEndDate180\",\"ShortDurationPrecipitationValue005\",\"ShortDurationPrecipitationValue010\",\"ShortDurationPrecipitationValue015\",\"ShortDurationPrecipitationValue020\",\"ShortDurationPrecipitationValue030\",\"ShortDurationPrecipitationValue045\",\"ShortDurationPrecipitationValue060\",\"ShortDurationPrecipitationValue080\",\"ShortDurationPrecipitationValue100\",\"ShortDurationPrecipitationValue120\",\"ShortDurationPrecipitationValue150\",\"ShortDurationPrecipitationValue180\",\"Sunrise\",\"Sunset\",\"TStorms\",\"WindEquipmentChangeDate\"'"
      ]
     },
     "execution_count": 7,
     "metadata": {},
     "output_type": "execute_result"
    }
   ],
   "source": [
    "lines = r.text.split('\\n')\n",
    "lines[0]"
   ]
  },
  {
   "cell_type": "code",
   "execution_count": 9,
   "metadata": {},
   "outputs": [],
   "source": [
    "columns = lines[0].split(',')"
   ]
  },
  {
   "cell_type": "code",
   "execution_count": 10,
   "metadata": {},
   "outputs": [
    {
     "data": {
      "text/plain": [
       "'\"DATE\"'"
      ]
     },
     "execution_count": 10,
     "metadata": {},
     "output_type": "execute_result"
    }
   ],
   "source": [
    "columns[1]"
   ]
  },
  {
   "cell_type": "code",
   "execution_count": null,
   "metadata": {},
   "outputs": [],
   "source": [
    "for column in columns: ...     print(column,x) ...     x=x+1"
   ]
  }
 ],
 "metadata": {
  "kernelspec": {
   "display_name": "Python 3",
   "language": "python",
   "name": "python3"
  },
  "language_info": {
   "codemirror_mode": {
    "name": "ipython",
    "version": 3
   },
   "file_extension": ".py",
   "mimetype": "text/x-python",
   "name": "python",
   "nbconvert_exporter": "python",
   "pygments_lexer": "ipython3",
   "version": "3.7.4"
  }
 },
 "nbformat": 4,
 "nbformat_minor": 2
}
