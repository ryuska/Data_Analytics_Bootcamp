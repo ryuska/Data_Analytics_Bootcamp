{
 "cells": [
  {
   "cell_type": "code",
   "execution_count": 1,
   "metadata": {},
   "outputs": [],
   "source": [
    "import requests # requests library for making HTTP requests to the internet\n",
    "import json # json library to read json data\n",
    "import pandas as pd\n",
    "\n",
    "# URL endpoint which actually has the weather data we want\n",
    "base_url='https://www.ncdc.noaa.gov/cdo-web/api/v2/data?'\n",
    "\n",
    "# Token to access the API\n",
    "headers={\n",
    "    'token':'vzcPnMEFfphMEnsRxhBDkWrDvYUfXVFf'\n",
    "}\n",
    "\n",
    "# There is a limit to the amount of data we can retrieve at one time, we can create this function to\n",
    "# increment the dates in the request parameter.\n",
    "def increment_decade(date):\n",
    "    date_inc = date.split('-')\n",
    "    year_inc = int(date_inc[0])+10\n",
    "    date_inc = str(year_inc)+'-'+str(date_inc[1])+'-'+str(date_inc[2])\n",
    "    return date_inc\n",
    "\n",
    "\n",
    "# This beginning start and end dates.\n",
    "startdate = '1990-01-01'\n",
    "enddate = '1999-12-31'\n",
    "\n",
    "# The dictionary of data that we are going to store.\n",
    "data={\n",
    "    'DATE':[],\n",
    "    'TAVG':[],\n",
    "    'AWND':[],\n",
    "    'PRCP':[]\n",
    "}\n",
    "\n",
    "for decade in range(0,3):\n",
    "    params = {\n",
    "        'datasetid': 'GSOM',\n",
    "        'locationid': 'FIPS:24',\n",
    "        'startdate': startdate,\n",
    "        'enddate': enddate,\n",
    "        'limit': '1000',\n",
    "        'stationid': 'GHCND:USW00093721',  # This weather station is located at BWI Maryland.\n",
    "        'datatypeid':''  # We will leave this blank as we have 3 different\n",
    "                         # datapoints average temp, percipitation, average wind speed.\n",
    "    }\n",
    "    datatypes=['TAVG','PRCP','AWND']\n",
    "\n",
    "    for datatype in datatypes:\n",
    "        params['datatypeid']=datatype\n",
    "        r = requests.get(base_url,params=params,headers=headers)\n",
    "        result_data = json.loads(r.text)\n",
    "        for result in result_data['results']:\n",
    "            data[datatype].append(result['value'])\n",
    "\n",
    "    # This step is redundant, however we need to get the dates.\n",
    "    params['datatypeid']='TAVG'\n",
    "    r = requests.get(base_url,params=params,headers=headers)\n",
    "    result_data = json.loads(r.text)\n",
    "    for result in result_data['results']:\n",
    "        data['DATE'].append(result['date'][0:10])\n",
    "\n",
    "    startdate = increment_decade(startdate)\n",
    "    enddate = increment_decade(enddate)\n",
    "\n",
    "# Create a file to work with\n",
    "with open('md_weather_data.csv','w') as nf:\n",
    "    nf.write(\"DATE,TAVG,AWND,PRCP\\n\")\n",
    "    x = 0\n",
    "    for val in data['DATE']:\n",
    "        nf.write(val+','+str(data['TAVG'][x])+','+str(data['AWND'][x])+','+str(data['PRCP'][x])+'\\n')\n",
    "        x += 1\n",
    "\n",
    "# OR\n",
    "# Create a Dataframe from the data.\n",
    "# df = pd.DataFrame(data)\n",
    "# df.plot()\n",
    "\n",
    "# Plot/Analyze the Year over Year change in TAVG, PRCP, AWND for the month of January\n",
    "\n",
    "# Plot/Analyze the Year over Year change in TAVG, PRCP, AWND for the month of June\n",
    "\n",
    "# Draw some conclusions about the weather changes in the last 30 years...\n",
    "# Based on the linear regression of average temperature in January and June in Maryland,\n",
    "# we expect the temperatures to be relatively steady."
   ]
  },
  {
   "cell_type": "code",
   "execution_count": 2,
   "metadata": {},
   "outputs": [
    {
     "data": {
      "text/plain": [
       "<matplotlib.axes._subplots.AxesSubplot at 0x11e587e10>"
      ]
     },
     "execution_count": 2,
     "metadata": {},
     "output_type": "execute_result"
    }
   ],
   "source": [
    "df=pd.DataFrame(data)\n",
    "df.plot()"
   ]
  },
  {
   "cell_type": "code",
   "execution_count": 3,
   "metadata": {},
   "outputs": [
    {
     "data": {
      "text/html": [
       "<div>\n",
       "<style scoped>\n",
       "    .dataframe tbody tr th:only-of-type {\n",
       "        vertical-align: middle;\n",
       "    }\n",
       "\n",
       "    .dataframe tbody tr th {\n",
       "        vertical-align: top;\n",
       "    }\n",
       "\n",
       "    .dataframe thead th {\n",
       "        text-align: right;\n",
       "    }\n",
       "</style>\n",
       "<table border=\"1\" class=\"dataframe\">\n",
       "  <thead>\n",
       "    <tr style=\"text-align: right;\">\n",
       "      <th></th>\n",
       "      <th>DATE</th>\n",
       "      <th>TAVG</th>\n",
       "      <th>AWND</th>\n",
       "      <th>PRCP</th>\n",
       "    </tr>\n",
       "  </thead>\n",
       "  <tbody>\n",
       "    <tr>\n",
       "      <td>0</td>\n",
       "      <td>1990-01-01</td>\n",
       "      <td>5.53</td>\n",
       "      <td>4.1</td>\n",
       "      <td>94.2</td>\n",
       "    </tr>\n",
       "    <tr>\n",
       "      <td>1</td>\n",
       "      <td>1990-02-01</td>\n",
       "      <td>5.68</td>\n",
       "      <td>4.6</td>\n",
       "      <td>37.6</td>\n",
       "    </tr>\n",
       "    <tr>\n",
       "      <td>2</td>\n",
       "      <td>1990-03-01</td>\n",
       "      <td>8.64</td>\n",
       "      <td>4.0</td>\n",
       "      <td>64.6</td>\n",
       "    </tr>\n",
       "    <tr>\n",
       "      <td>3</td>\n",
       "      <td>1990-04-01</td>\n",
       "      <td>12.64</td>\n",
       "      <td>4.5</td>\n",
       "      <td>107.6</td>\n",
       "    </tr>\n",
       "    <tr>\n",
       "      <td>4</td>\n",
       "      <td>1990-05-01</td>\n",
       "      <td>16.84</td>\n",
       "      <td>4.2</td>\n",
       "      <td>124.9</td>\n",
       "    </tr>\n",
       "  </tbody>\n",
       "</table>\n",
       "</div>"
      ],
      "text/plain": [
       "         DATE   TAVG  AWND   PRCP\n",
       "0  1990-01-01   5.53   4.1   94.2\n",
       "1  1990-02-01   5.68   4.6   37.6\n",
       "2  1990-03-01   8.64   4.0   64.6\n",
       "3  1990-04-01  12.64   4.5  107.6\n",
       "4  1990-05-01  16.84   4.2  124.9"
      ]
     },
     "execution_count": 3,
     "metadata": {},
     "output_type": "execute_result"
    }
   ],
   "source": [
    "df.head()"
   ]
  },
  {
   "cell_type": "code",
   "execution_count": 4,
   "metadata": {},
   "outputs": [
    {
     "data": {
      "text/html": [
       "<div>\n",
       "<style scoped>\n",
       "    .dataframe tbody tr th:only-of-type {\n",
       "        vertical-align: middle;\n",
       "    }\n",
       "\n",
       "    .dataframe tbody tr th {\n",
       "        vertical-align: top;\n",
       "    }\n",
       "\n",
       "    .dataframe thead th {\n",
       "        text-align: right;\n",
       "    }\n",
       "</style>\n",
       "<table border=\"1\" class=\"dataframe\">\n",
       "  <thead>\n",
       "    <tr style=\"text-align: right;\">\n",
       "      <th></th>\n",
       "      <th>DATE</th>\n",
       "      <th>TAVG</th>\n",
       "      <th>AWND</th>\n",
       "      <th>PRCP</th>\n",
       "    </tr>\n",
       "  </thead>\n",
       "  <tbody>\n",
       "    <tr>\n",
       "      <td>355</td>\n",
       "      <td>2019-08-01</td>\n",
       "      <td>25.51</td>\n",
       "      <td>2.5</td>\n",
       "      <td>60.9</td>\n",
       "    </tr>\n",
       "    <tr>\n",
       "      <td>356</td>\n",
       "      <td>2019-09-01</td>\n",
       "      <td>23.24</td>\n",
       "      <td>2.5</td>\n",
       "      <td>4.1</td>\n",
       "    </tr>\n",
       "    <tr>\n",
       "      <td>357</td>\n",
       "      <td>2019-10-01</td>\n",
       "      <td>16.75</td>\n",
       "      <td>3.0</td>\n",
       "      <td>157.9</td>\n",
       "    </tr>\n",
       "    <tr>\n",
       "      <td>358</td>\n",
       "      <td>2019-11-01</td>\n",
       "      <td>6.84</td>\n",
       "      <td>2.8</td>\n",
       "      <td>28.0</td>\n",
       "    </tr>\n",
       "    <tr>\n",
       "      <td>359</td>\n",
       "      <td>2019-12-01</td>\n",
       "      <td>4.40</td>\n",
       "      <td>2.8</td>\n",
       "      <td>90.7</td>\n",
       "    </tr>\n",
       "  </tbody>\n",
       "</table>\n",
       "</div>"
      ],
      "text/plain": [
       "           DATE   TAVG  AWND   PRCP\n",
       "355  2019-08-01  25.51   2.5   60.9\n",
       "356  2019-09-01  23.24   2.5    4.1\n",
       "357  2019-10-01  16.75   3.0  157.9\n",
       "358  2019-11-01   6.84   2.8   28.0\n",
       "359  2019-12-01   4.40   2.8   90.7"
      ]
     },
     "execution_count": 4,
     "metadata": {},
     "output_type": "execute_result"
    }
   ],
   "source": [
    "df.tail()"
   ]
  },
  {
   "cell_type": "code",
   "execution_count": 8,
   "metadata": {},
   "outputs": [],
   "source": [
    "df=pd.read_csv('md_weather_data.csv')\n",
    "jan_tavg_data=df[df['DATE'].str[5:]=='01-01'].filter(['DATE','TAVG'])"
   ]
  },
  {
   "cell_type": "code",
   "execution_count": 59,
   "metadata": {},
   "outputs": [
    {
     "data": {
      "text/plain": [
       "<matplotlib.axes._subplots.AxesSubplot at 0x1a22188f10>"
      ]
     },
     "execution_count": 59,
     "metadata": {},
     "output_type": "execute_result"
    },
    {
     "data": {
      "image/png": "[encoded data removed]",
      "text/plain": [
       "<Figure size 1080x720 with 1 Axes>"
      ]
     },
     "metadata": {
      "needs_background": "light"
     },
     "output_type": "display_data"
    }
   ],
   "source": [
    "jan_tavg_data.plot(x='DATE', y='TAVG', figsize=(15, 10))"
   ]
  },
  {
   "cell_type": "code",
   "execution_count": 31,
   "metadata": {},
   "outputs": [
    {
     "data": {
      "text/html": [
       "<div>\n",
       "<style scoped>\n",
       "    .dataframe tbody tr th:only-of-type {\n",
       "        vertical-align: middle;\n",
       "    }\n",
       "\n",
       "    .dataframe tbody tr th {\n",
       "        vertical-align: top;\n",
       "    }\n",
       "\n",
       "    .dataframe thead th {\n",
       "        text-align: right;\n",
       "    }\n",
       "</style>\n",
       "<table border=\"1\" class=\"dataframe\">\n",
       "  <thead>\n",
       "    <tr style=\"text-align: right;\">\n",
       "      <th></th>\n",
       "      <th>DATE</th>\n",
       "      <th>TAVG</th>\n",
       "    </tr>\n",
       "  </thead>\n",
       "  <tbody>\n",
       "    <tr>\n",
       "      <td>0</td>\n",
       "      <td>1990-01-01</td>\n",
       "      <td>5.53</td>\n",
       "    </tr>\n",
       "    <tr>\n",
       "      <td>12</td>\n",
       "      <td>1991-01-01</td>\n",
       "      <td>1.96</td>\n",
       "    </tr>\n",
       "    <tr>\n",
       "      <td>24</td>\n",
       "      <td>1992-01-01</td>\n",
       "      <td>1.41</td>\n",
       "    </tr>\n",
       "    <tr>\n",
       "      <td>36</td>\n",
       "      <td>1993-01-01</td>\n",
       "      <td>3.25</td>\n",
       "    </tr>\n",
       "    <tr>\n",
       "      <td>48</td>\n",
       "      <td>1994-01-01</td>\n",
       "      <td>-2.76</td>\n",
       "    </tr>\n",
       "  </tbody>\n",
       "</table>\n",
       "</div>"
      ],
      "text/plain": [
       "          DATE  TAVG\n",
       "0   1990-01-01  5.53\n",
       "12  1991-01-01  1.96\n",
       "24  1992-01-01  1.41\n",
       "36  1993-01-01  3.25\n",
       "48  1994-01-01 -2.76"
      ]
     },
     "execution_count": 31,
     "metadata": {},
     "output_type": "execute_result"
    }
   ],
   "source": [
    "jan_tavg_data.head()"
   ]
  },
  {
   "cell_type": "code",
   "execution_count": 38,
   "metadata": {},
   "outputs": [],
   "source": [
    "df_missing=pd.read_csv('md_weather_data.csv')\n"
   ]
  },
  {
   "cell_type": "code",
   "execution_count": 39,
   "metadata": {},
   "outputs": [
    {
     "data": {
      "text/plain": [
       "DATE    360\n",
       "TAVG    360\n",
       "AWND    360\n",
       "PRCP    360\n",
       "dtype: int64"
      ]
     },
     "execution_count": 39,
     "metadata": {},
     "output_type": "execute_result"
    }
   ],
   "source": [
    "df_missing.count()"
   ]
  },
  {
   "cell_type": "code",
   "execution_count": 41,
   "metadata": {},
   "outputs": [
    {
     "data": {
      "text/plain": [
       "30"
      ]
     },
     "execution_count": 41,
     "metadata": {},
     "output_type": "execute_result"
    }
   ],
   "source": [
    "len(jan_tavg_data)"
   ]
  },
  {
   "cell_type": "code",
   "execution_count": 74,
   "metadata": {},
   "outputs": [],
   "source": [
    "import matplotlib.pyplot as plt\n",
    "import numpy as np\n",
    "import seaborn as sns\n"
   ]
  },
  {
   "cell_type": "code",
   "execution_count": 77,
   "metadata": {},
   "outputs": [],
   "source": [
    "jan_tavg_data['DATE']= jan_tavg_data['DATE'].astype(str) "
   ]
  },
  {
   "cell_type": "code",
   "execution_count": 84,
   "metadata": {},
   "outputs": [],
   "source": [
    "jan_tavg_data['DATE']= pd.to_datetime(jan_tavg_data['DATE']) "
   ]
  },
  {
   "cell_type": "code",
   "execution_count": 85,
   "metadata": {},
   "outputs": [
    {
     "data": {
      "text/plain": [
       "DATE    datetime64[ns]\n",
       "TAVG           float64\n",
       "a                int64\n",
       "dtype: object"
      ]
     },
     "execution_count": 85,
     "metadata": {},
     "output_type": "execute_result"
    }
   ],
   "source": [
    "jan_tavg_data.dtypes"
   ]
  },
  {
   "cell_type": "code",
   "execution_count": 86,
   "metadata": {},
   "outputs": [],
   "source": [
    "a=[]\n",
    "for i in range(1,31):\n",
    "    a.append(i)\n",
    "\n",
    "jan_tavg_data['a']=a"
   ]
  },
  {
   "cell_type": "code",
   "execution_count": 82,
   "metadata": {},
   "outputs": [
    {
     "data": {
      "text/plain": [
       "<seaborn.axisgrid.FacetGrid at 0x1a23f84cd0>"
      ]
     },
     "execution_count": 82,
     "metadata": {},
     "output_type": "execute_result"
    },
    {
     "data": {
      "image/png": "[encoded data removed]",
      "text/plain": [
       "<Figure size 360x360 with 1 Axes>"
      ]
     },
     "metadata": {
      "needs_background": "light"
     },
     "output_type": "display_data"
    }
   ],
   "source": [
    "#make a scatterplot\n",
    "sns.lmplot(x='a', y='TAVG', data=jan_tavg_data)"
   ]
  },
  {
   "cell_type": "code",
   "execution_count": 90,
   "metadata": {},
   "outputs": [],
   "source": [
    "from sklearn.linear_model import LinearRegression"
   ]
  },
  {
   "cell_type": "code",
   "execution_count": null,
   "metadata": {},
   "outputs": [],
   "source": []
  }
 ],
 "metadata": {
  "kernelspec": {
   "display_name": "Python 3",
   "language": "python",
   "name": "python3"
  },
  "language_info": {
   "codemirror_mode": {
    "name": "ipython",
    "version": 3
   },
   "file_extension": ".py",
   "mimetype": "text/x-python",
   "name": "python",
   "nbconvert_exporter": "python",
   "pygments_lexer": "ipython3",
   "version": "3.7.4"
  }
 },
 "nbformat": 4,
 "nbformat_minor": 2
}
